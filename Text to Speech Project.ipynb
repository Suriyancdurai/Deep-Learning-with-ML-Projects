{
 "cells": [
  {
   "cell_type": "code",
   "execution_count": 1,
   "id": "69be44ab",
   "metadata": {},
   "outputs": [
    {
     "name": "stdout",
     "output_type": "stream",
     "text": [
      "Collecting gTTs\n",
      "  Downloading gTTS-2.5.1-py3-none-any.whl.metadata (4.1 kB)\n",
      "Requirement already satisfied: requests<3,>=2.27 in c:\\users\\surie\\anaconda3\\lib\\site-packages (from gTTs) (2.31.0)\n",
      "Requirement already satisfied: click<8.2,>=7.1 in c:\\users\\surie\\anaconda3\\lib\\site-packages (from gTTs) (8.0.4)\n",
      "Requirement already satisfied: colorama in c:\\users\\surie\\anaconda3\\lib\\site-packages (from click<8.2,>=7.1->gTTs) (0.4.6)\n",
      "Requirement already satisfied: charset-normalizer<4,>=2 in c:\\users\\surie\\anaconda3\\lib\\site-packages (from requests<3,>=2.27->gTTs) (2.0.4)\n",
      "Requirement already satisfied: idna<4,>=2.5 in c:\\users\\surie\\anaconda3\\lib\\site-packages (from requests<3,>=2.27->gTTs) (3.4)\n",
      "Requirement already satisfied: urllib3<3,>=1.21.1 in c:\\users\\surie\\anaconda3\\lib\\site-packages (from requests<3,>=2.27->gTTs) (1.26.16)\n",
      "Requirement already satisfied: certifi>=2017.4.17 in c:\\users\\surie\\anaconda3\\lib\\site-packages (from requests<3,>=2.27->gTTs) (2024.2.2)\n",
      "Downloading gTTS-2.5.1-py3-none-any.whl (29 kB)\n",
      "Installing collected packages: gTTs\n",
      "Successfully installed gTTs-2.5.1\n"
     ]
    }
   ],
   "source": [
    "!pip install gTTs"
   ]
  },
  {
   "cell_type": "code",
   "execution_count": 3,
   "id": "af447a04",
   "metadata": {},
   "outputs": [],
   "source": [
    "#Import the required module for text\n",
    "#to speech conversion\n",
    "from gtts import gTTS\n",
    "\n",
    "\n",
    "# This module is imported so that we can play the converted audio\n",
    "import os\n",
    "\n",
    "text = \"Welcome to the world of Artificial Intelligence!\"\n",
    "\n",
    "# Language in which you want to convert\n",
    "language = 'en'\n",
    "\n",
    "# Passing the text and language to the engine,\n",
    "# here we have marked slow=False. Which tells the module that the converted audio should  have a high speed\n",
    "\n",
    "myobj = gTTS(text=text, lang=language, slow=False)\n",
    "\n",
    "# Saving the converted audio in an mp3 file named  welcome\n",
    "\n",
    "myobj.save(\"welcome.mp3\")\n"
   ]
  }
 ],
 "metadata": {
  "kernelspec": {
   "display_name": "Python 3 (ipykernel)",
   "language": "python",
   "name": "python3"
  },
  "language_info": {
   "codemirror_mode": {
    "name": "ipython",
    "version": 3
   },
   "file_extension": ".py",
   "mimetype": "text/x-python",
   "name": "python",
   "nbconvert_exporter": "python",
   "pygments_lexer": "ipython3",
   "version": "3.11.5"
  }
 },
 "nbformat": 4,
 "nbformat_minor": 5
}
