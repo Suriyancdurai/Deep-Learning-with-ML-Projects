{
 "cells": [
  {
   "cell_type": "code",
   "execution_count": 1,
   "id": "30360f15",
   "metadata": {},
   "outputs": [
    {
     "name": "stdout",
     "output_type": "stream",
     "text": [
      "Requirement already satisfied: pillow in /home/shreyz-max/anaconda3/lib/python3.8/site-packages (8.2.0)\n",
      "Requirement already satisfied: pytesseract in /home/shreyz-max/anaconda3/lib/python3.8/site-packages (0.3.8)\n",
      "Requirement already satisfied: Pillow in /home/shreyz-max/anaconda3/lib/python3.8/site-packages (from pytesseract) (8.2.0)\n"
     ]
    }
   ],
   "source": [
    "!pip install pillow\n",
    "!pip install pytesseract"
   ]
  },
  {
   "cell_type": "code",
   "execution_count": 2,
   "id": "f87ee135",
   "metadata": {},
   "outputs": [],
   "source": [
    "from PIL import Image\n",
    "import pytesseract"
   ]
  },
  {
   "cell_type": "code",
   "execution_count": 3,
   "id": "21d950cd",
   "metadata": {},
   "outputs": [
    {
     "name": "stdout",
     "output_type": "stream",
     "text": [
      "_ The’quick brown fox’ .\n",
      "-jumps over the lazy:\n",
      "dog.\n",
      "\f",
      "\n"
     ]
    }
   ],
   "source": [
    "def process_image(iamge_name, lang_code):\n",
    "    return pytesseract.image_to_string(Image.open(iamge_name), lang=lang_code)\n",
    "\n",
    "def print_data(data):\n",
    "    print(data)\n",
    "\n",
    "def main():\n",
    "    data_eng = process_image(\"test_eng.png\", \"eng\")\n",
    "    #data_ben = process_image(\"test_ben.png\", \"ben\")\n",
    "    print_data(data_eng)\n",
    "    #print_data(data_ben)\n",
    "    \n",
    "if  __name__ == '__main__':\n",
    "    main()"
   ]
  }
 ],
 "metadata": {
  "kernelspec": {
   "display_name": "Python 3 (ipykernel)",
   "language": "python",
   "name": "python3"
  },
  "language_info": {
   "codemirror_mode": {
    "name": "ipython",
    "version": 3
   },
   "file_extension": ".py",
   "mimetype": "text/x-python",
   "name": "python",
   "nbconvert_exporter": "python",
   "pygments_lexer": "ipython3",
   "version": "3.11.5"
  }
 },
 "nbformat": 4,
 "nbformat_minor": 5
}
