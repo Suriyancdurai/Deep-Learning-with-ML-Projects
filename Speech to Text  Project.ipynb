{
 "cells": [
  {
   "cell_type": "code",
   "execution_count": 1,
   "id": "e7e066e7",
   "metadata": {},
   "outputs": [
    {
     "name": "stdout",
     "output_type": "stream",
     "text": [
      "Requirement already satisfied: SpeechRecognition in /home/shreyz-max/anaconda3/lib/python3.8/site-packages (3.8.1)\r\n",
      "Requirement already satisfied: pydub in /home/shreyz-max/anaconda3/lib/python3.8/site-packages (0.25.1)\r\n"
     ]
    }
   ],
   "source": [
    "!pip3 install SpeechRecognition pydub"
   ]
  },
  {
   "cell_type": "code",
   "execution_count": 2,
   "id": "0291f7d4",
   "metadata": {},
   "outputs": [],
   "source": [
    "import speech_recognition as sr"
   ]
  },
  {
   "cell_type": "code",
   "execution_count": 3,
   "id": "52fc9299",
   "metadata": {},
   "outputs": [],
   "source": [
    "filename = \"audio123.wav\""
   ]
  },
  {
   "cell_type": "code",
   "execution_count": 4,
   "id": "00897556",
   "metadata": {},
   "outputs": [],
   "source": [
    "# initialize the recognizer\n",
    "r = sr.Recognizer()"
   ]
  },
  {
   "cell_type": "code",
   "execution_count": 5,
   "id": "940efaf8",
   "metadata": {},
   "outputs": [
    {
     "name": "stdout",
     "output_type": "stream",
     "text": [
      "hi good evening everyone today a to speak about artificial intelligence branch of computer science that develops machines and software with human like intelligence artificial intelligence is the ability of the computer program aur machine to think and it is also a field of study which tries to make computer smart they work on their own without being in contact with commands John mccarthy was came up with name artificial intelligence in 1955 in general use the term artificial intelligence means a machine which mimics human cognition at least some of the things we associate with the other mind such as learning problem solving can be done by computers the not in the same way as a way to address capital and Michael Henry define as the system's ability to correctly interrupt external data to learn from such that Tata and to use the learning to achieve specific goal and staff through flexible and an ideal intelligent machine is a flexible edit agent which receives its environment and take action to maximize its chance of success at some cool as muscles become increasing the capable mental facilities one-third to require intelligence or removed from the definition for example optical character recognition is no longer perceived as an example of at artificial intelligence it is just a routine Technology at present we used the term for successful in understanding human speed can tempting at high level in strategy game system self driving Cars interpreting Complex data some people also consider a as a danger to humanity if it is called used to progress at its current affairs and extreme goal of their research is to create computer programs that can learn solve problem think logically in practice however most applications have big on problem with computers can do well searching databases and doing calculations are things computer do better than people on the other hand receiving its environment in any real sense is way beyond present day computing involves many different fields of Computer Science Mathematics linguistics and psychology and neuroscience and philosophy eventually research effort to create a General artificial intelligence which can solve many problems instead of focusing on what on just one researchers are also trying to create creative and emotional AI which can possibly empathise and creator many approaches and tools have in tri borrowing from the management literature\n"
     ]
    }
   ],
   "source": [
    "# open the file\n",
    "with sr.AudioFile(filename) as source:\n",
    "    # listen for the data (load audio to memory)\n",
    "    audio_data = r.record(source)\n",
    "    # recognize (convert from speech to text)\n",
    "    text = r.recognize_google(audio_data)\n",
    "    print(text)"
   ]
  },
  {
   "cell_type": "code",
   "execution_count": 6,
   "id": "0769d03a",
   "metadata": {},
   "outputs": [
    {
     "name": "stderr",
     "output_type": "stream",
     "text": [
      "/home/shreyz-max/anaconda3/lib/python3.8/site-packages/pydub/utils.py:170: RuntimeWarning: Couldn't find ffmpeg or avconv - defaulting to ffmpeg, but may not work\n",
      "  warn(\"Couldn't find ffmpeg or avconv - defaulting to ffmpeg, but may not work\", RuntimeWarning)\n"
     ]
    }
   ],
   "source": [
    "# importing libraries \n",
    "import speech_recognition as sr \n",
    "import os \n",
    "from pydub import AudioSegment\n",
    "from pydub.silence import split_on_silence\n",
    "\n",
    "# create a speech recognition object\n",
    "r = sr.Recognizer()\n",
    "\n",
    "# a function that splits the audio file into chunks\n",
    "# and applies speech recognition\n",
    "def get_large_audio_transcription(path):\n",
    "    \"\"\"\n",
    "    Splitting the large audio file into chunks\n",
    "    and apply speech recognition on each of these chunks\n",
    "    \"\"\"\n",
    "    # open the audio file using pydub\n",
    "    sound = AudioSegment.from_wav(path)  \n",
    "    # split audio sound where silence is 700 miliseconds or more and get chunks\n",
    "    chunks = split_on_silence(sound,\n",
    "        # experiment with this value for your target audio file\n",
    "        min_silence_len = 500,\n",
    "        # adjust this per requirement\n",
    "        silence_thresh = sound.dBFS-14,\n",
    "        # keep the silence for 1 second, adjustable as well\n",
    "        keep_silence=500,\n",
    "    )\n",
    "    folder_name = \"audio-chunks\"\n",
    "    # create a directory to store the audio chunks\n",
    "    if not os.path.isdir(folder_name):\n",
    "        os.mkdir(folder_name)\n",
    "    whole_text = \"\"\n",
    "    # process each chunk \n",
    "    for i, audio_chunk in enumerate(chunks, start=1):\n",
    "        # export audio chunk and save it in\n",
    "        # the `folder_name` directory.\n",
    "        chunk_filename = os.path.join(folder_name, f\"chunk{i}.wav\")\n",
    "        audio_chunk.export(chunk_filename, format=\"wav\")\n",
    "        # recognize the chunk\n",
    "        with sr.AudioFile(chunk_filename) as source:\n",
    "            audio_listened = r.record(source)\n",
    "            # try converting it to text\n",
    "            try:\n",
    "                text = r.recognize_google(audio_listened)\n",
    "            except sr.UnknownValueError as e:\n",
    "                print(\"Error:\", str(e))\n",
    "            else:\n",
    "                text = f\"{text.capitalize()}. \"\n",
    "                print(chunk_filename, \":\", text)\n",
    "                whole_text += text\n",
    "    # return the text for all chunks detected\n",
    "    return whole_text"
   ]
  },
  {
   "cell_type": "code",
   "execution_count": 7,
   "id": "6769dbd5",
   "metadata": {},
   "outputs": [
    {
     "name": "stdout",
     "output_type": "stream",
     "text": [
      "audio-chunks/chunk1.wav : His about which she had fixed a bug for country seat. \n",
      "audio-chunks/chunk2.wav : Are short distance to the city. \n",
      "audio-chunks/chunk3.wav : Just that what is now called dutch street. \n",
      "audio-chunks/chunk4.wav : Should bounded with proofs of his ingenuity. \n",
      "audio-chunks/chunk5.wav : And smoke jack. \n",
      "audio-chunks/chunk6.wav : Required host version. \n",
      "audio-chunks/chunk7.wav : Church of windsor was to meet without fire. \n",
      "audio-chunks/chunk8.wav : Chords for the horses. \n",
      "audio-chunks/chunk9.wav : Weather cox it turned against the wind and other one headed could try with this. \n",
      "audio-chunks/chunk10.wav : Rustom stand confounded o b holders. \n",
      "\n",
      "Full text: His about which she had fixed a bug for country seat. Are short distance to the city. Just that what is now called dutch street. Should bounded with proofs of his ingenuity. And smoke jack. Required host version. Church of windsor was to meet without fire. Chords for the horses. Weather cox it turned against the wind and other one headed could try with this. Rustom stand confounded o b holders. \n"
     ]
    }
   ],
   "source": [
    "path = \"machine-learning_speech-recognition.wav\"\n",
    "print(\"\\nFull text:\", get_large_audio_transcription(path))"
   ]
  }
 ],
 "metadata": {
  "kernelspec": {
   "display_name": "Python 3 (ipykernel)",
   "language": "python",
   "name": "python3"
  },
  "language_info": {
   "codemirror_mode": {
    "name": "ipython",
    "version": 3
   },
   "file_extension": ".py",
   "mimetype": "text/x-python",
   "name": "python",
   "nbconvert_exporter": "python",
   "pygments_lexer": "ipython3",
   "version": "3.11.5"
  }
 },
 "nbformat": 4,
 "nbformat_minor": 5
}
